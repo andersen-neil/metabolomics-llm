{
 "cells": [
  {
   "cell_type": "code",
   "execution_count": 1,
   "metadata": {},
   "outputs": [],
   "source": [
    "import matplotlib.pyplot as plt\n",
    "import numpy as np\n",
    "import pandas as pd"
   ]
  },
  {
   "cell_type": "code",
   "execution_count": 5,
   "metadata": {},
   "outputs": [],
   "source": [
    "# Choose data\n",
    "df = pd.read_parquet(\"data/2013.parquet\")"
   ]
  },
  {
   "cell_type": "markdown",
   "metadata": {},
   "source": [
    "# Data Types"
   ]
  },
  {
   "cell_type": "code",
   "execution_count": 4,
   "metadata": {},
   "outputs": [
    {
     "data": {
      "text/plain": [
       "title             object\n",
       "type              object\n",
       "citations         object\n",
       "published_date    object\n",
       "updated_date      object\n",
       "abstract          object\n",
       "text              object\n",
       "url               object\n",
       "dtype: object"
      ]
     },
     "execution_count": 4,
     "metadata": {},
     "output_type": "execute_result"
    }
   ],
   "source": [
    "df.dtypes"
   ]
  },
  {
   "cell_type": "markdown",
   "metadata": {},
   "source": [
    "Will convert these to be more specific in handling of each feature below."
   ]
  },
  {
   "cell_type": "markdown",
   "metadata": {},
   "source": [
    "# Null Values"
   ]
  },
  {
   "cell_type": "code",
   "execution_count": 5,
   "metadata": {},
   "outputs": [
    {
     "data": {
      "text/plain": [
       "title             0.00\n",
       "type              0.83\n",
       "citations         1.00\n",
       "published_date    0.00\n",
       "updated_date      0.00\n",
       "abstract          0.10\n",
       "text              0.02\n",
       "url               0.00\n",
       "dtype: float64"
      ]
     },
     "execution_count": 5,
     "metadata": {},
     "output_type": "execute_result"
    }
   ],
   "source": [
    "df = df.replace(\"\", None)\n",
    "na = df.isna()\n",
    "round(na.mean(), 2)"
   ]
  },
  {
   "cell_type": "markdown",
   "metadata": {},
   "source": [
    "# Duplicates"
   ]
  },
  {
   "cell_type": "markdown",
   "metadata": {},
   "source": [
    "We only care about knowing of duplicates in the text we will be using to train our model, so we need only check the column `text`."
   ]
  },
  {
   "cell_type": "code",
   "execution_count": 6,
   "metadata": {},
   "outputs": [],
   "source": [
    "def find_duplicates(df: pd.DataFrame, feature: str) -> pd.DataFrame:\n",
    "    assert feature in df.columns, f\"{feature} is not a feature in DataFrame.\"\n",
    "    duplicate_values = df[df[feature].duplicated() & df[feature].notna() & (df[feature] != \"\")][feature]\n",
    "    duplicates = df[df[feature].isin(duplicate_values)].sort_values(feature)\n",
    "    return duplicates"
   ]
  },
  {
   "cell_type": "code",
   "execution_count": 9,
   "metadata": {},
   "outputs": [
    {
     "data": {
      "text/html": [
       "<div>\n",
       "<style scoped>\n",
       "    .dataframe tbody tr th:only-of-type {\n",
       "        vertical-align: middle;\n",
       "    }\n",
       "\n",
       "    .dataframe tbody tr th {\n",
       "        vertical-align: top;\n",
       "    }\n",
       "\n",
       "    .dataframe thead th {\n",
       "        text-align: right;\n",
       "    }\n",
       "</style>\n",
       "<table border=\"1\" class=\"dataframe\">\n",
       "  <thead>\n",
       "    <tr style=\"text-align: right;\">\n",
       "      <th></th>\n",
       "      <th>title</th>\n",
       "      <th>type</th>\n",
       "      <th>citations</th>\n",
       "      <th>published_date</th>\n",
       "      <th>updated_date</th>\n",
       "      <th>abstract</th>\n",
       "      <th>text</th>\n",
       "      <th>url</th>\n",
       "    </tr>\n",
       "    <tr>\n",
       "      <th>id</th>\n",
       "      <th></th>\n",
       "      <th></th>\n",
       "      <th></th>\n",
       "      <th></th>\n",
       "      <th></th>\n",
       "      <th></th>\n",
       "      <th></th>\n",
       "      <th></th>\n",
       "    </tr>\n",
       "  </thead>\n",
       "  <tbody>\n",
       "    <tr>\n",
       "      <th>25215586</th>\n",
       "      <td>Education and Social Work handbook</td>\n",
       "      <td>unknown</td>\n",
       "      <td>None</td>\n",
       "      <td>2006-01-01T00:00:00</td>\n",
       "      <td>2022-02-24T00:24:29</td>\n",
       "      <td>2006 handbook for the faculty of Education and...</td>\n",
       "      <td>The University of Sydney \\nFaculty of Educatio...</td>\n",
       "      <td>https://core.ac.uk/download/41230036.pdf</td>\n",
       "    </tr>\n",
       "    <tr>\n",
       "      <th>24072203</th>\n",
       "      <td>Education and Social Work handbook</td>\n",
       "      <td>unknown</td>\n",
       "      <td>None</td>\n",
       "      <td>2006-01-01T00:00:00</td>\n",
       "      <td>2022-02-24T14:57:04</td>\n",
       "      <td>2006 handbook for the faculty of Education and...</td>\n",
       "      <td>The University of Sydney \\nFaculty of Educatio...</td>\n",
       "      <td>https://core.ac.uk/download/41230036.pdf</td>\n",
       "    </tr>\n",
       "  </tbody>\n",
       "</table>\n",
       "</div>"
      ],
      "text/plain": [
       "                                       title     type citations  \\\n",
       "id                                                                \n",
       "25215586  Education and Social Work handbook  unknown      None   \n",
       "24072203  Education and Social Work handbook  unknown      None   \n",
       "\n",
       "               published_date         updated_date  \\\n",
       "id                                                   \n",
       "25215586  2006-01-01T00:00:00  2022-02-24T00:24:29   \n",
       "24072203  2006-01-01T00:00:00  2022-02-24T14:57:04   \n",
       "\n",
       "                                                   abstract  \\\n",
       "id                                                            \n",
       "25215586  2006 handbook for the faculty of Education and...   \n",
       "24072203  2006 handbook for the faculty of Education and...   \n",
       "\n",
       "                                                       text  \\\n",
       "id                                                            \n",
       "25215586  The University of Sydney \\nFaculty of Educatio...   \n",
       "24072203  The University of Sydney \\nFaculty of Educatio...   \n",
       "\n",
       "                                               url  \n",
       "id                                                  \n",
       "25215586  https://core.ac.uk/download/41230036.pdf  \n",
       "24072203  https://core.ac.uk/download/41230036.pdf  "
      ]
     },
     "execution_count": 9,
     "metadata": {},
     "output_type": "execute_result"
    }
   ],
   "source": [
    "find_duplicates(df, \"text\")"
   ]
  },
  {
   "cell_type": "markdown",
   "metadata": {},
   "source": [
    "If multiples works have the same `text`, we will take keep only the copy that was updated most recently."
   ]
  },
  {
   "cell_type": "code",
   "execution_count": 10,
   "metadata": {},
   "outputs": [],
   "source": [
    "df = df.sort_values(\"updated_date\")\n",
    "df = df.drop_duplicates(\"text\", keep=\"last\")"
   ]
  },
  {
   "cell_type": "markdown",
   "metadata": {},
   "source": [
    "##### TODO: soften the above so that it finds approximate and not just exact matches"
   ]
  },
  {
   "cell_type": "markdown",
   "metadata": {},
   "source": [
    "# Features"
   ]
  },
  {
   "cell_type": "code",
   "execution_count": 11,
   "metadata": {},
   "outputs": [],
   "source": [
    "def plot_feature(feature):\n",
    "    value_counts = df[feature].value_counts(dropna=False)\n",
    "    value, count = [\"na\" if not v else v for v in value_counts.index], value_counts.values\n",
    "    plt.bar(value, count)\n",
    "    plt.xlabel(f\"{feature}\")\n",
    "    plt.ylabel(\"count\")\n",
    "    plt.title(f\"{feature} data\")"
   ]
  },
  {
   "cell_type": "markdown",
   "metadata": {},
   "source": [
    "## Type"
   ]
  },
  {
   "cell_type": "code",
   "execution_count": 12,
   "metadata": {},
   "outputs": [
    {
     "data": {
      "image/png": "[encoded data removed]",
      "text/plain": [
       "<Figure size 640x480 with 1 Axes>"
      ]
     },
     "metadata": {},
     "output_type": "display_data"
    }
   ],
   "source": [
    "plot_feature(\"type\")"
   ]
  },
  {
   "cell_type": "markdown",
   "metadata": {},
   "source": [
    "What works are of \"unknown\" type?"
   ]
  },
  {
   "cell_type": "code",
   "execution_count": 13,
   "metadata": {},
   "outputs": [
    {
     "data": {
      "text/html": [
       "<div>\n",
       "<style scoped>\n",
       "    .dataframe tbody tr th:only-of-type {\n",
       "        vertical-align: middle;\n",
       "    }\n",
       "\n",
       "    .dataframe tbody tr th {\n",
       "        vertical-align: top;\n",
       "    }\n",
       "\n",
       "    .dataframe thead th {\n",
       "        text-align: right;\n",
       "    }\n",
       "</style>\n",
       "<table border=\"1\" class=\"dataframe\">\n",
       "  <thead>\n",
       "    <tr style=\"text-align: right;\">\n",
       "      <th></th>\n",
       "      <th>title</th>\n",
       "      <th>type</th>\n",
       "      <th>citations</th>\n",
       "      <th>published_date</th>\n",
       "      <th>updated_date</th>\n",
       "      <th>abstract</th>\n",
       "      <th>text</th>\n",
       "      <th>url</th>\n",
       "    </tr>\n",
       "    <tr>\n",
       "      <th>id</th>\n",
       "      <th></th>\n",
       "      <th></th>\n",
       "      <th></th>\n",
       "      <th></th>\n",
       "      <th></th>\n",
       "      <th></th>\n",
       "      <th></th>\n",
       "      <th></th>\n",
       "    </tr>\n",
       "  </thead>\n",
       "  <tbody>\n",
       "    <tr>\n",
       "      <th>24072203</th>\n",
       "      <td>Education and Social Work handbook</td>\n",
       "      <td>unknown</td>\n",
       "      <td>None</td>\n",
       "      <td>2006-01-01T00:00:00</td>\n",
       "      <td>2022-02-24T14:57:04</td>\n",
       "      <td>2006 handbook for the faculty of Education and...</td>\n",
       "      <td>The University of Sydney \\nFaculty of Educatio...</td>\n",
       "      <td>https://core.ac.uk/download/41230036.pdf</td>\n",
       "    </tr>\n",
       "    <tr>\n",
       "      <th>5147122</th>\n",
       "      <td>Development Of Identification Technique By FTI...</td>\n",
       "      <td>unknown</td>\n",
       "      <td>None</td>\n",
       "      <td>2007-02-01T00:00:00</td>\n",
       "      <td>2022-02-28T00:02:47</td>\n",
       "      <td>Analisis kualitatif dan kuantitatif terhadap h...</td>\n",
       "      <td>DEVELOPMENT OF IDENTIFICATION \\nTECHNIQUE BY F...</td>\n",
       "      <td>https://core.ac.uk/download/11932472.pdf</td>\n",
       "    </tr>\n",
       "    <tr>\n",
       "      <th>369057</th>\n",
       "      <td>Amino acid transporters &amp; amino acid metabolis...</td>\n",
       "      <td>unknown</td>\n",
       "      <td>None</td>\n",
       "      <td>2007-01-01T00:00:00</td>\n",
       "      <td>2022-03-16T11:27:20</td>\n",
       "      <td>The development of new drugs against Human Afr...</td>\n",
       "      <td>Amino Acid Transporters &amp; Amino Acid Metabolis...</td>\n",
       "      <td>https://core.ac.uk/download/370935.pdf</td>\n",
       "    </tr>\n",
       "    <tr>\n",
       "      <th>134766682</th>\n",
       "      <td>Science handbook</td>\n",
       "      <td>unknown</td>\n",
       "      <td>None</td>\n",
       "      <td>2006-01-01T00:00:00</td>\n",
       "      <td>2022-12-13T03:23:44</td>\n",
       "      <td>2006 handbook for the faculty of Scienc</td>\n",
       "      <td>The University of Sydney Faculty of Science Ha...</td>\n",
       "      <td>https://core.ac.uk/download/41230055.pdf</td>\n",
       "    </tr>\n",
       "  </tbody>\n",
       "</table>\n",
       "</div>"
      ],
      "text/plain": [
       "                                                       title     type  \\\n",
       "id                                                                      \n",
       "24072203                  Education and Social Work handbook  unknown   \n",
       "5147122    Development Of Identification Technique By FTI...  unknown   \n",
       "369057     Amino acid transporters & amino acid metabolis...  unknown   \n",
       "134766682                                   Science handbook  unknown   \n",
       "\n",
       "          citations       published_date         updated_date  \\\n",
       "id                                                              \n",
       "24072203       None  2006-01-01T00:00:00  2022-02-24T14:57:04   \n",
       "5147122        None  2007-02-01T00:00:00  2022-02-28T00:02:47   \n",
       "369057         None  2007-01-01T00:00:00  2022-03-16T11:27:20   \n",
       "134766682      None  2006-01-01T00:00:00  2022-12-13T03:23:44   \n",
       "\n",
       "                                                    abstract  \\\n",
       "id                                                             \n",
       "24072203   2006 handbook for the faculty of Education and...   \n",
       "5147122    Analisis kualitatif dan kuantitatif terhadap h...   \n",
       "369057     The development of new drugs against Human Afr...   \n",
       "134766682            2006 handbook for the faculty of Scienc   \n",
       "\n",
       "                                                        text  \\\n",
       "id                                                             \n",
       "24072203   The University of Sydney \\nFaculty of Educatio...   \n",
       "5147122    DEVELOPMENT OF IDENTIFICATION \\nTECHNIQUE BY F...   \n",
       "369057     Amino Acid Transporters & Amino Acid Metabolis...   \n",
       "134766682  The University of Sydney Faculty of Science Ha...   \n",
       "\n",
       "                                                url  \n",
       "id                                                   \n",
       "24072203   https://core.ac.uk/download/41230036.pdf  \n",
       "5147122    https://core.ac.uk/download/11932472.pdf  \n",
       "369057       https://core.ac.uk/download/370935.pdf  \n",
       "134766682  https://core.ac.uk/download/41230055.pdf  "
      ]
     },
     "execution_count": 13,
     "metadata": {},
     "output_type": "execute_result"
    }
   ],
   "source": [
    "df[df.type == \"unknown\"]"
   ]
  },
  {
   "cell_type": "markdown",
   "metadata": {},
   "source": [
    "## Citations"
   ]
  },
  {
   "cell_type": "markdown",
   "metadata": {},
   "source": [
    "Citations seem to be mostly or all `None`, making it a useless feature."
   ]
  },
  {
   "cell_type": "code",
   "execution_count": 14,
   "metadata": {},
   "outputs": [
    {
     "data": {
      "text/plain": [
       "True"
      ]
     },
     "execution_count": 14,
     "metadata": {},
     "output_type": "execute_result"
    }
   ],
   "source": [
    "np.all(df.citations.isna())"
   ]
  },
  {
   "cell_type": "markdown",
   "metadata": {},
   "source": [
    "## Dates"
   ]
  },
  {
   "cell_type": "markdown",
   "metadata": {},
   "source": [
    "Convert to datetime format."
   ]
  },
  {
   "cell_type": "code",
   "execution_count": 15,
   "metadata": {},
   "outputs": [],
   "source": [
    "df[\"published_date\"] = pd.to_datetime(df.published_date)\n",
    "df[\"updated_date\"] = pd.to_datetime(df.updated_date)"
   ]
  },
  {
   "cell_type": "markdown",
   "metadata": {},
   "source": [
    "Distribution of dates."
   ]
  },
  {
   "cell_type": "code",
   "execution_count": 35,
   "metadata": {},
   "outputs": [
    {
     "data": {
      "image/png": "[encoded data removed]",
      "text/plain": [
       "<Figure size 640x480 with 2 Axes>"
      ]
     },
     "metadata": {},
     "output_type": "display_data"
    }
   ],
   "source": [
    "works_published_per_year = df.groupby(df.published_date.dt.year)[\"text\"].count()\n",
    "works_updated_per_year = df.groupby(df.updated_date.dt.year)[\"text\"].count()\n",
    "works_per_year = [works_published_per_year, works_updated_per_year]\n",
    "titles = [\"Published\", \"Updated\"]\n",
    "\n",
    "fig, axs = plt.subplots(1, len(works_per_year), sharey=True)\n",
    "for i in range(len(works_per_year)):\n",
    "    data = works_per_year[i]\n",
    "    year, count = data.index, data.values\n",
    "    axs[i].bar(year, count)\n",
    "    axs[i].set_title(titles[i])\n",
    "    axs[i].set_xticks(year)"
   ]
  },
  {
   "cell_type": "markdown",
   "metadata": {},
   "source": [
    "## Text"
   ]
  },
  {
   "cell_type": "markdown",
   "metadata": {},
   "source": [
    "Drop works without text."
   ]
  },
  {
   "cell_type": "code",
   "execution_count": 6,
   "metadata": {},
   "outputs": [
    {
     "data": {
      "text/plain": [
       "18"
      ]
     },
     "execution_count": 6,
     "metadata": {},
     "output_type": "execute_result"
    }
   ],
   "source": [
    "df.text.isna().sum()"
   ]
  },
  {
   "cell_type": "code",
   "execution_count": 55,
   "metadata": {},
   "outputs": [],
   "source": [
    "df = df.dropna(subset=\"text\")"
   ]
  },
  {
   "cell_type": "markdown",
   "metadata": {},
   "source": [
    "Distribution of length."
   ]
  },
  {
   "cell_type": "code",
   "execution_count": 58,
   "metadata": {},
   "outputs": [],
   "source": [
    "word_counts = df.text.map(lambda x: len(x.split()))"
   ]
  },
  {
   "cell_type": "code",
   "execution_count": 71,
   "metadata": {},
   "outputs": [
    {
     "data": {
      "image/png": "[encoded data removed]",
      "text/plain": [
       "<Figure size 1000x1000 with 3 Axes>"
      ]
     },
     "metadata": {},
     "output_type": "display_data"
    }
   ],
   "source": [
    "all_works = word_counts\n",
    "medium_works = word_counts[word_counts <= 100000]\n",
    "short_works = word_counts[word_counts <= 20000]\n",
    "data = [all_works, medium_works, short_works]\n",
    "titles = [\"All Works\", \"Works <= 100K Words\", \"Works <= 20K Words\"]\n",
    "\n",
    "fig, axs = plt.subplots(len(data), 1, figsize=(10, 10))\n",
    "for i in range(len(data)):\n",
    "    axs[i].hist(data[i])\n",
    "    axs[i].set_title(titles[i])"
   ]
  },
  {
   "cell_type": "markdown",
   "metadata": {},
   "source": [
    "Mentions of \"metabolomics\"."
   ]
  },
  {
   "cell_type": "code",
   "execution_count": 76,
   "metadata": {},
   "outputs": [
    {
     "data": {
      "image/png": "[encoded data removed]",
      "text/plain": [
       "<Figure size 640x480 with 1 Axes>"
      ]
     },
     "metadata": {},
     "output_type": "display_data"
    }
   ],
   "source": [
    "occurrences = df.text.map(lambda x: x.count(\"metabolomics\"))\n",
    "plt.hist(occurrences)\n",
    "plt.xlabel(\"Count of 'metabolomics'\")\n",
    "plt.ylabel(\"Number of Works\")"
   ]
  }
 ],
 "metadata": {
  "kernelspec": {
   "display_name": "Python 3",
   "language": "python",
   "name": "python3"
  },
  "language_info": {
   "codemirror_mode": {
    "name": "ipython",
    "version": 3
   },
   "file_extension": ".py",
   "mimetype": "text/x-python",
   "name": "python",
   "nbconvert_exporter": "python",
   "pygments_lexer": "ipython3",
   "version": "3.9.18"
  }
 },
 "nbformat": 4,
 "nbformat_minor": 2
}
